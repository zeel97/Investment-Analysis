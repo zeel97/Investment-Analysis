{
 "cells": [
  {
   "cell_type": "markdown",
   "metadata": {},
   "source": [
    "# Spark Funds Investment Analysis\n",
    "\n",
    "Spark Funds is an Asset Management Company, and is looking for companies to invest in.\n",
    "\n",
    "Objectives: the objective of the analysis is to identify the suitable companies to invest in considering their budget of $5-15million and the requirement of an English Speaking Country\n",
    "The factors that are considered to achieve this objective are: \n",
    "1. Funding Type \n",
    "2. Country\n",
    "3. Sector \n",
    "\n",
    "Before moving on to the analysis, it is important to import the data and clean it. This is necessary to attain reliable analysis. \n",
    "\n",
    "-------------------------------------\n",
    "\n",
    "## Pre-processing Data\n",
    "1. Import the data: companies, round2 and mapping\n",
    "2. Cleaning the data"
   ]
  },
  {
   "cell_type": "code",
   "execution_count": 1,
   "metadata": {},
   "outputs": [],
   "source": [
    "import pandas as pd\n",
    "import numpy as np\n",
    "import re\n",
    "import matplotlib.pyplot as plt\n",
    "import seaborn as sns\n",
    "pd.options.display.float_format = '{:20,.2f}'.format\n",
    "pd.options.mode.chained_assignment = None"
   ]
  },
  {
   "cell_type": "code",
   "execution_count": 2,
   "metadata": {
    "scrolled": true
   },
   "outputs": [
    {
     "data": {
      "text/plain": [
       "array(['/Organization/-Fame', '/Organization/-Qounter',\n",
       "       '/Organization/-The-One-Of-Them-Inc-', ...,\n",
       "       '/Organization/Ã\\x81Eron', '/Organization/Ã\\x94Asys-2',\n",
       "       '/Organization/Ä°Novatiff-Reklam-Ve-Tanä±Tä±M-Hizmetleri-Tic'],\n",
       "      dtype=object)"
      ]
     },
     "execution_count": 2,
     "metadata": {},
     "output_type": "execute_result"
    }
   ],
   "source": [
    "companies = pd.read_csv(\"companies.txt\",sep=\"\\t\", encoding=\"raw_unicode_escape\")\n",
    "companies.permalink.unique()"
   ]
  },
  {
   "cell_type": "code",
   "execution_count": 3,
   "metadata": {},
   "outputs": [
    {
     "data": {
      "text/plain": [
       "array(['/organization/-fame', '/ORGANIZATION/-QOUNTER',\n",
       "       '/organization/-qounter', ..., '/organization/ã\\x81eron',\n",
       "       '/ORGANIZATION/Ã\\x94ASYS-2',\n",
       "       '/organization/ä°novatiff-reklam-ve-tanä±tä±m-hizmetleri-tic'],\n",
       "      dtype=object)"
      ]
     },
     "execution_count": 3,
     "metadata": {},
     "output_type": "execute_result"
    }
   ],
   "source": [
    "rounds2 = pd.read_csv(\"rounds2.csv\",encoding=\"raw_unicode_escape\")\n",
    "rounds2.company_permalink.unique()"
   ]
  },
  {
   "cell_type": "code",
   "execution_count": 4,
   "metadata": {},
   "outputs": [],
   "source": [
    "main_sector_mapping = pd.read_csv(\"mapping.csv\", encoding=\"raw_unicode_escape\")"
   ]
  },
  {
   "cell_type": "markdown",
   "metadata": {},
   "source": [
    "### Data Cleaning\n",
    "Now that the 3 datasets are imported, it's time to start cleaning the data. The tasks in this part include:\n",
    "1. Remove the special characters from the dataframe\n",
    "2. Lower case the permalinks, company_permalinks, category_list, category\n",
    "3. Mapping, replace 0 with na for the categories\n",
    "\n",
    "#### Step 1: Removing special characters\n",
    "It is seen that despite encoding that are special characters in the string that can hamper the quality of data. That's why it is necessary to clean them using *re*"
   ]
  },
  {
   "cell_type": "code",
   "execution_count": 5,
   "metadata": {},
   "outputs": [
    {
     "data": {
      "text/plain": [
       "array(['/Organization/-Fame', '/Organization/-Qounter',\n",
       "       '/Organization/-The-One-Of-Them-Inc-', ..., '/Organization/Eron',\n",
       "       '/Organization/Asys-',\n",
       "       '/Organization/Novatiff-Reklam-Ve-TanTM-Hizmetleri-Tic'],\n",
       "      dtype=object)"
      ]
     },
     "execution_count": 5,
     "metadata": {},
     "output_type": "execute_result"
    }
   ],
   "source": [
    "companies[\"permalink\"] = companies.permalink.map(lambda permalink: re.sub('[^A-Za-z-/\\s]+', '',permalink))\n",
    "companies[\"permalink\"].unique()"
   ]
  },
  {
   "cell_type": "code",
   "execution_count": 6,
   "metadata": {},
   "outputs": [
    {
     "data": {
      "text/plain": [
       "array(['/organization/-fame', '/ORGANIZATION/-QOUNTER',\n",
       "       '/organization/-qounter', ..., '/organization/eron',\n",
       "       '/ORGANIZATION/ASYS-',\n",
       "       '/organization/novatiff-reklam-ve-tantm-hizmetleri-tic'],\n",
       "      dtype=object)"
      ]
     },
     "execution_count": 6,
     "metadata": {},
     "output_type": "execute_result"
    }
   ],
   "source": [
    "rounds2[\"company_permalink\"] = rounds2.company_permalink.map(lambda permalink: re.sub('[^A-Za-z-/\\s]+', '',permalink))\n",
    "rounds2[\"company_permalink\"].unique()"
   ]
  },
  {
   "cell_type": "markdown",
   "metadata": {},
   "source": [
    "#### Step 2: Lower case the permalinks and company_permalinks"
   ]
  },
  {
   "cell_type": "code",
   "execution_count": 7,
   "metadata": {},
   "outputs": [],
   "source": [
    "companies[\"permalink\"] = companies[\"permalink\"].str.lower()\n",
    "rounds2[\"company_permalink\"] = rounds2[\"company_permalink\"].str.lower()\n",
    "main_sector_mapping[\"category_list\"] = main_sector_mapping[\"category_list\"].str.lower()"
   ]
  },
  {
   "cell_type": "markdown",
   "metadata": {},
   "source": [
    "#### Step 3: Replaces the 0 with na for categories"
   ]
  },
  {
   "cell_type": "code",
   "execution_count": 8,
   "metadata": {},
   "outputs": [],
   "source": [
    "main_sector_mapping[\"category_list\"] = main_sector_mapping[\"category_list\"].map(lambda category: str(category).replace('0', 'na'))\n",
    "main_sector_mapping[\"category_list\"] = main_sector_mapping[\"category_list\"].map(lambda permalink: re.sub('[^A-Za-z-/\\s]+', '',permalink))"
   ]
  },
  {
   "cell_type": "markdown",
   "metadata": {},
   "source": [
    "---------------------------------------------\n",
    "\n",
    "## Checkpoint 1\n",
    "1. The unique companies present in rounds2"
   ]
  },
  {
   "cell_type": "code",
   "execution_count": 9,
   "metadata": {},
   "outputs": [
    {
     "data": {
      "text/plain": [
       "66146"
      ]
     },
     "execution_count": 9,
     "metadata": {},
     "output_type": "execute_result"
    }
   ],
   "source": [
    "rounds2[\"company_permalink\"].nunique()"
   ]
  },
  {
   "cell_type": "markdown",
   "metadata": {},
   "source": [
    "2. The unique companies present in companies"
   ]
  },
  {
   "cell_type": "code",
   "execution_count": 10,
   "metadata": {},
   "outputs": [
    {
     "data": {
      "text/plain": [
       "66146"
      ]
     },
     "execution_count": 10,
     "metadata": {},
     "output_type": "execute_result"
    }
   ],
   "source": [
    "companies[\"permalink\"].nunique()"
   ]
  },
  {
   "cell_type": "code",
   "execution_count": 11,
   "metadata": {},
   "outputs": [
    {
     "data": {
      "text/html": [
       "<div>\n",
       "<style scoped>\n",
       "    .dataframe tbody tr th:only-of-type {\n",
       "        vertical-align: middle;\n",
       "    }\n",
       "\n",
       "    .dataframe tbody tr th {\n",
       "        vertical-align: top;\n",
       "    }\n",
       "\n",
       "    .dataframe thead th {\n",
       "        text-align: right;\n",
       "    }\n",
       "</style>\n",
       "<table border=\"1\" class=\"dataframe\">\n",
       "  <thead>\n",
       "    <tr style=\"text-align: right;\">\n",
       "      <th></th>\n",
       "      <th>company_permalink</th>\n",
       "      <th>funding_round_permalink</th>\n",
       "      <th>funding_round_type</th>\n",
       "      <th>funding_round_code</th>\n",
       "      <th>funded_at</th>\n",
       "      <th>raised_amount_usd</th>\n",
       "      <th>permalink</th>\n",
       "      <th>name</th>\n",
       "      <th>homepage_url</th>\n",
       "      <th>category_list</th>\n",
       "      <th>status</th>\n",
       "      <th>country_code</th>\n",
       "      <th>state_code</th>\n",
       "      <th>region</th>\n",
       "      <th>city</th>\n",
       "      <th>founded_at</th>\n",
       "    </tr>\n",
       "  </thead>\n",
       "  <tbody>\n",
       "    <tr>\n",
       "      <th>0</th>\n",
       "      <td>/organization/-fame</td>\n",
       "      <td>/funding-round/9a01d05418af9f794eebff7ace91f638</td>\n",
       "      <td>venture</td>\n",
       "      <td>B</td>\n",
       "      <td>05-01-2015</td>\n",
       "      <td>10,000,000.00</td>\n",
       "      <td>/organization/-fame</td>\n",
       "      <td>#fame</td>\n",
       "      <td>http://livfame.com</td>\n",
       "      <td>Media</td>\n",
       "      <td>operating</td>\n",
       "      <td>IND</td>\n",
       "      <td>16</td>\n",
       "      <td>Mumbai</td>\n",
       "      <td>Mumbai</td>\n",
       "      <td>NaN</td>\n",
       "    </tr>\n",
       "    <tr>\n",
       "      <th>1</th>\n",
       "      <td>/organization/-qounter</td>\n",
       "      <td>/funding-round/22dacff496eb7acb2b901dec1dfe5633</td>\n",
       "      <td>venture</td>\n",
       "      <td>A</td>\n",
       "      <td>14-10-2014</td>\n",
       "      <td>nan</td>\n",
       "      <td>/organization/-qounter</td>\n",
       "      <td>:Qounter</td>\n",
       "      <td>http://www.qounter.com</td>\n",
       "      <td>Application Platforms|Real Time|Social Network...</td>\n",
       "      <td>operating</td>\n",
       "      <td>USA</td>\n",
       "      <td>DE</td>\n",
       "      <td>DE - Other</td>\n",
       "      <td>Delaware City</td>\n",
       "      <td>04-09-2014</td>\n",
       "    </tr>\n",
       "    <tr>\n",
       "      <th>2</th>\n",
       "      <td>/organization/-qounter</td>\n",
       "      <td>/funding-round/b44fbb94153f6cdef13083530bb48030</td>\n",
       "      <td>seed</td>\n",
       "      <td>NaN</td>\n",
       "      <td>01-03-2014</td>\n",
       "      <td>700,000.00</td>\n",
       "      <td>/organization/-qounter</td>\n",
       "      <td>:Qounter</td>\n",
       "      <td>http://www.qounter.com</td>\n",
       "      <td>Application Platforms|Real Time|Social Network...</td>\n",
       "      <td>operating</td>\n",
       "      <td>USA</td>\n",
       "      <td>DE</td>\n",
       "      <td>DE - Other</td>\n",
       "      <td>Delaware City</td>\n",
       "      <td>04-09-2014</td>\n",
       "    </tr>\n",
       "    <tr>\n",
       "      <th>3</th>\n",
       "      <td>/organization/-the-one-of-them-inc-</td>\n",
       "      <td>/funding-round/650b8f704416801069bb178a1418776b</td>\n",
       "      <td>venture</td>\n",
       "      <td>B</td>\n",
       "      <td>30-01-2014</td>\n",
       "      <td>3,406,878.00</td>\n",
       "      <td>/organization/-the-one-of-them-inc-</td>\n",
       "      <td>(THE) ONE of THEM,Inc.</td>\n",
       "      <td>http://oneofthem.jp</td>\n",
       "      <td>Apps|Games|Mobile</td>\n",
       "      <td>operating</td>\n",
       "      <td>NaN</td>\n",
       "      <td>NaN</td>\n",
       "      <td>NaN</td>\n",
       "      <td>NaN</td>\n",
       "      <td>NaN</td>\n",
       "    </tr>\n",
       "    <tr>\n",
       "      <th>4</th>\n",
       "      <td>/organization/--com</td>\n",
       "      <td>/funding-round/5727accaeaa57461bd22a9bdd945382d</td>\n",
       "      <td>venture</td>\n",
       "      <td>A</td>\n",
       "      <td>19-03-2008</td>\n",
       "      <td>2,000,000.00</td>\n",
       "      <td>/organization/--com</td>\n",
       "      <td>0-6.com</td>\n",
       "      <td>http://www.0-6.com</td>\n",
       "      <td>Curated Web</td>\n",
       "      <td>operating</td>\n",
       "      <td>CHN</td>\n",
       "      <td>22</td>\n",
       "      <td>Beijing</td>\n",
       "      <td>Beijing</td>\n",
       "      <td>01-01-2007</td>\n",
       "    </tr>\n",
       "  </tbody>\n",
       "</table>\n",
       "</div>"
      ],
      "text/plain": [
       "                     company_permalink  \\\n",
       "0                  /organization/-fame   \n",
       "1               /organization/-qounter   \n",
       "2               /organization/-qounter   \n",
       "3  /organization/-the-one-of-them-inc-   \n",
       "4                  /organization/--com   \n",
       "\n",
       "                           funding_round_permalink funding_round_type  \\\n",
       "0  /funding-round/9a01d05418af9f794eebff7ace91f638            venture   \n",
       "1  /funding-round/22dacff496eb7acb2b901dec1dfe5633            venture   \n",
       "2  /funding-round/b44fbb94153f6cdef13083530bb48030               seed   \n",
       "3  /funding-round/650b8f704416801069bb178a1418776b            venture   \n",
       "4  /funding-round/5727accaeaa57461bd22a9bdd945382d            venture   \n",
       "\n",
       "  funding_round_code   funded_at    raised_amount_usd  \\\n",
       "0                  B  05-01-2015        10,000,000.00   \n",
       "1                  A  14-10-2014                  nan   \n",
       "2                NaN  01-03-2014           700,000.00   \n",
       "3                  B  30-01-2014         3,406,878.00   \n",
       "4                  A  19-03-2008         2,000,000.00   \n",
       "\n",
       "                             permalink                    name  \\\n",
       "0                  /organization/-fame                   #fame   \n",
       "1               /organization/-qounter                :Qounter   \n",
       "2               /organization/-qounter                :Qounter   \n",
       "3  /organization/-the-one-of-them-inc-  (THE) ONE of THEM,Inc.   \n",
       "4                  /organization/--com                 0-6.com   \n",
       "\n",
       "             homepage_url                                      category_list  \\\n",
       "0      http://livfame.com                                              Media   \n",
       "1  http://www.qounter.com  Application Platforms|Real Time|Social Network...   \n",
       "2  http://www.qounter.com  Application Platforms|Real Time|Social Network...   \n",
       "3     http://oneofthem.jp                                  Apps|Games|Mobile   \n",
       "4      http://www.0-6.com                                        Curated Web   \n",
       "\n",
       "      status country_code state_code      region           city  founded_at  \n",
       "0  operating          IND         16      Mumbai         Mumbai         NaN  \n",
       "1  operating          USA         DE  DE - Other  Delaware City  04-09-2014  \n",
       "2  operating          USA         DE  DE - Other  Delaware City  04-09-2014  \n",
       "3  operating          NaN        NaN         NaN            NaN         NaN  \n",
       "4  operating          CHN         22     Beijing        Beijing  01-01-2007  "
      ]
     },
     "execution_count": 11,
     "metadata": {},
     "output_type": "execute_result"
    }
   ],
   "source": [
    "master_frame = pd.merge(rounds2,companies,how='inner',left_on=\"company_permalink\",right_on=\"permalink\")\n",
    "master_frame.head()"
   ]
  },
  {
   "cell_type": "markdown",
   "metadata": {},
   "source": [
    "5. The observations in the master_frame after merging"
   ]
  },
  {
   "cell_type": "code",
   "execution_count": 12,
   "metadata": {},
   "outputs": [
    {
     "data": {
      "text/plain": [
       "(116033, 16)"
      ]
     },
     "execution_count": 12,
     "metadata": {},
     "output_type": "execute_result"
    }
   ],
   "source": [
    "master_frame.shape"
   ]
  },
  {
   "cell_type": "code",
   "execution_count": 13,
   "metadata": {},
   "outputs": [
    {
     "data": {
      "text/plain": [
       "company_permalink           66146\n",
       "funding_round_permalink    114949\n",
       "funding_round_type             14\n",
       "funding_round_code              8\n",
       "funded_at                    5033\n",
       "raised_amount_usd           22095\n",
       "permalink                   66146\n",
       "name                        66102\n",
       "homepage_url                61191\n",
       "category_list               27296\n",
       "status                          4\n",
       "country_code                  137\n",
       "state_code                    311\n",
       "region                       1092\n",
       "city                         5111\n",
       "founded_at                   3978\n",
       "dtype: int64"
      ]
     },
     "execution_count": 13,
     "metadata": {},
     "output_type": "execute_result"
    }
   ],
   "source": [
    "master_frame.nunique()"
   ]
  },
  {
   "cell_type": "markdown",
   "metadata": {},
   "source": [
    "------------------------------------------------------\n",
    "\n",
    "## Checkpoint 2: Funding Type Analysis\n",
    "\n",
    "The difference between the unique company permalinks and the funding round permalink, indicates that companies have had multiple rounds of funding.\n",
    "\n",
    "Before moving on to identifying which funding type is suitable for Spark Funds, I think the dataset needs to be checked for Nan values in the raised_amount_usd column.\n",
    "\n",
    "The 2 ways to deal with it, would have been to delete it or impute it. \n",
    "\n",
    "In this case, considering the fact that the variance is likely to be high since they are directly related to the funding_round_type, I have decided to drop the null values. "
   ]
  },
  {
   "cell_type": "code",
   "execution_count": 14,
   "metadata": {},
   "outputs": [],
   "source": [
    "master_frame = master_frame.dropna(subset=[\"raised_amount_usd\"])"
   ]
  },
  {
   "cell_type": "code",
   "execution_count": 15,
   "metadata": {},
   "outputs": [
    {
     "data": {
      "text/html": [
       "<div>\n",
       "<style scoped>\n",
       "    .dataframe tbody tr th:only-of-type {\n",
       "        vertical-align: middle;\n",
       "    }\n",
       "\n",
       "    .dataframe tbody tr th {\n",
       "        vertical-align: top;\n",
       "    }\n",
       "\n",
       "    .dataframe thead th {\n",
       "        text-align: right;\n",
       "    }\n",
       "</style>\n",
       "<table border=\"1\" class=\"dataframe\">\n",
       "  <thead>\n",
       "    <tr style=\"text-align: right;\">\n",
       "      <th></th>\n",
       "      <th>funding_round_type</th>\n",
       "      <th>raised_amount_usd</th>\n",
       "    </tr>\n",
       "  </thead>\n",
       "  <tbody>\n",
       "    <tr>\n",
       "      <th>2</th>\n",
       "      <td>seed</td>\n",
       "      <td>721,022.19</td>\n",
       "    </tr>\n",
       "    <tr>\n",
       "      <th>3</th>\n",
       "      <td>angel</td>\n",
       "      <td>958,760.71</td>\n",
       "    </tr>\n",
       "    <tr>\n",
       "      <th>7</th>\n",
       "      <td>venture</td>\n",
       "      <td>11,770,798.83</td>\n",
       "    </tr>\n",
       "    <tr>\n",
       "      <th>10</th>\n",
       "      <td>private_equity</td>\n",
       "      <td>73,247,240.71</td>\n",
       "    </tr>\n",
       "  </tbody>\n",
       "</table>\n",
       "</div>"
      ],
      "text/plain": [
       "   funding_round_type    raised_amount_usd\n",
       "2                seed           721,022.19\n",
       "3               angel           958,760.71\n",
       "7             venture        11,770,798.83\n",
       "10     private_equity        73,247,240.71"
      ]
     },
     "execution_count": 15,
     "metadata": {},
     "output_type": "execute_result"
    }
   ],
   "source": [
    "funding_types = pd.DataFrame(master_frame.groupby(\"funding_round_type\").raised_amount_usd.mean().sort_values(ascending=True)).reset_index()\n",
    "funding_types.loc[funding_types[\"funding_round_type\"].isin([\"venture\",\"seed\",\"angel\",\"private_equity\"])]"
   ]
  },
  {
   "cell_type": "code",
   "execution_count": 16,
   "metadata": {},
   "outputs": [
    {
     "data": {
      "text/plain": [
       "funding_round_code\n",
       "A           6,977,269.08\n",
       "B          14,606,427.77\n",
       "C          21,527,157.69\n",
       "D          30,643,690.90\n",
       "E          46,074,669.18\n",
       "F          53,426,353.38\n",
       "G          77,986,035.07\n",
       "H         140,591,666.67\n",
       "Name: raised_amount_usd, dtype: float64"
      ]
     },
     "execution_count": 16,
     "metadata": {},
     "output_type": "execute_result"
    }
   ],
   "source": [
    "master_frame.groupby('funding_round_code').raised_amount_usd.mean().sort_values(ascending=True)"
   ]
  },
  {
   "cell_type": "markdown",
   "metadata": {},
   "source": [
    "### Analysis: \n",
    "Based on the mean across the 4 types of funding, it is evident that *Venture* is the most suitable funding type for Spark Funds. The average in this category fits within their budget. \n",
    "Additionally it is seen that funding rounds A & B have their average funding fall under the budget. \n",
    "\n",
    "Before moving on to the next checkpoint a venture data frame is created to get the observations only for companies that have recieved venture funding in the range of $5-15million\n"
   ]
  },
  {
   "cell_type": "code",
   "execution_count": 17,
   "metadata": {
    "scrolled": true
   },
   "outputs": [],
   "source": [
    "venture_frame = master_frame.loc[(master_frame.funding_round_type == \"venture\") & (master_frame.raised_amount_usd>5000000) & (master_frame.raised_amount_usd<15000000)]"
   ]
  },
  {
   "cell_type": "markdown",
   "metadata": {},
   "source": [
    "-----------------------\n",
    "## Checkpoint 3: Identifying Top 3 Countries\n",
    "\n",
    "To identify the top 3 countries, manually an array of English speaking countries is made. Based on which the master_frame will be filtered to find the ones with the maximum investment.\n",
    "\n",
    "To make the array of english speaking countries, I have referred to the countries present in the master_frame along the list provided on Wikipedia. Based on the two, I made an array of countries in the master_frame that have english as their official language."
   ]
  },
  {
   "cell_type": "code",
   "execution_count": 18,
   "metadata": {},
   "outputs": [
    {
     "data": {
      "text/plain": [
       "array(['IND', 'USA', 'FRA', 'CHN', nan, 'SGP', 'RUS', 'NLD', 'GBR', 'CAN',\n",
       "       'BRA', 'ISR', 'DEU', 'HKG', 'SVN', 'JPN', 'SWE', 'THA', 'TWN',\n",
       "       'MEX', 'IRL', 'DNK', 'MNE', 'ESP', 'BEL', 'AUS', 'CHE', 'EST',\n",
       "       'ITA', 'AUT', 'NOR', 'HUN', 'NZL', 'ARM', 'KOR', 'FIN', 'TUR',\n",
       "       'ROM', 'KEN', 'CYP', 'ARE', 'PHL', 'CYM', 'PRT', 'VNM', 'ARG',\n",
       "       'CHL', 'LVA', 'IDN', 'POL', 'LUX', 'MYS', 'UKR', 'BGR', 'ISL',\n",
       "       'ZAF', 'KAZ', 'NGA', 'LIE', 'CZE', 'TAN', 'JOR', 'PAK', 'BAH',\n",
       "       'KWT', 'URY', 'EGY', 'BGD', 'LTU', 'MAF', 'GIB', 'MLT'],\n",
       "      dtype=object)"
      ]
     },
     "execution_count": 18,
     "metadata": {},
     "output_type": "execute_result"
    }
   ],
   "source": [
    "venture_frame.country_code.unique()"
   ]
  },
  {
   "cell_type": "code",
   "execution_count": 19,
   "metadata": {},
   "outputs": [
    {
     "data": {
      "text/plain": [
       "23"
      ]
     },
     "execution_count": 19,
     "metadata": {},
     "output_type": "execute_result"
    }
   ],
   "source": [
    "english_countries = ['IND','USA','SGP','GBR','CAN','IRL','AUS','NZL','KEN','ARE','PHL','MYS','NGA','JOR','PAK','BAH','KWT','BGD','GIB','MLT','CYM','HKG','ISR']\n",
    "len(english_countries)"
   ]
  },
  {
   "cell_type": "code",
   "execution_count": 20,
   "metadata": {},
   "outputs": [
    {
     "data": {
      "text/html": [
       "<div>\n",
       "<style scoped>\n",
       "    .dataframe tbody tr th:only-of-type {\n",
       "        vertical-align: middle;\n",
       "    }\n",
       "\n",
       "    .dataframe tbody tr th {\n",
       "        vertical-align: top;\n",
       "    }\n",
       "\n",
       "    .dataframe thead th {\n",
       "        text-align: right;\n",
       "    }\n",
       "</style>\n",
       "<table border=\"1\" class=\"dataframe\">\n",
       "  <thead>\n",
       "    <tr style=\"text-align: right;\">\n",
       "      <th></th>\n",
       "      <th>country_code</th>\n",
       "      <th>sum</th>\n",
       "    </tr>\n",
       "  </thead>\n",
       "  <tbody>\n",
       "    <tr>\n",
       "      <th>0</th>\n",
       "      <td>USA</td>\n",
       "      <td>90,344,380,521.00</td>\n",
       "    </tr>\n",
       "    <tr>\n",
       "      <th>1</th>\n",
       "      <td>GBR</td>\n",
       "      <td>5,020,843,539.00</td>\n",
       "    </tr>\n",
       "    <tr>\n",
       "      <th>2</th>\n",
       "      <td>CHN</td>\n",
       "      <td>4,073,461,053.00</td>\n",
       "    </tr>\n",
       "    <tr>\n",
       "      <th>3</th>\n",
       "      <td>CAN</td>\n",
       "      <td>3,222,884,577.00</td>\n",
       "    </tr>\n",
       "    <tr>\n",
       "      <th>4</th>\n",
       "      <td>ISR</td>\n",
       "      <td>2,270,478,963.00</td>\n",
       "    </tr>\n",
       "  </tbody>\n",
       "</table>\n",
       "</div>"
      ],
      "text/plain": [
       "  country_code                  sum\n",
       "0          USA    90,344,380,521.00\n",
       "1          GBR     5,020,843,539.00\n",
       "2          CHN     4,073,461,053.00\n",
       "3          CAN     3,222,884,577.00\n",
       "4          ISR     2,270,478,963.00"
      ]
     },
     "execution_count": 20,
     "metadata": {},
     "output_type": "execute_result"
    }
   ],
   "source": [
    "top9 = pd.DataFrame(venture_frame.groupby(\"country_code\").raised_amount_usd.agg(['sum']).sort_values(by='sum',ascending=False).reset_index().head(9))\n",
    "top9.head()"
   ]
  },
  {
   "cell_type": "code",
   "execution_count": 21,
   "metadata": {},
   "outputs": [
    {
     "data": {
      "text/html": [
       "<div>\n",
       "<style scoped>\n",
       "    .dataframe tbody tr th:only-of-type {\n",
       "        vertical-align: middle;\n",
       "    }\n",
       "\n",
       "    .dataframe tbody tr th {\n",
       "        vertical-align: top;\n",
       "    }\n",
       "\n",
       "    .dataframe thead th {\n",
       "        text-align: right;\n",
       "    }\n",
       "</style>\n",
       "<table border=\"1\" class=\"dataframe\">\n",
       "  <thead>\n",
       "    <tr style=\"text-align: right;\">\n",
       "      <th></th>\n",
       "      <th>country_code</th>\n",
       "      <th>sum</th>\n",
       "    </tr>\n",
       "  </thead>\n",
       "  <tbody>\n",
       "    <tr>\n",
       "      <th>0</th>\n",
       "      <td>USA</td>\n",
       "      <td>90,344,380,521.00</td>\n",
       "    </tr>\n",
       "    <tr>\n",
       "      <th>1</th>\n",
       "      <td>GBR</td>\n",
       "      <td>5,020,843,539.00</td>\n",
       "    </tr>\n",
       "    <tr>\n",
       "      <th>2</th>\n",
       "      <td>CAN</td>\n",
       "      <td>3,222,884,577.00</td>\n",
       "    </tr>\n",
       "  </tbody>\n",
       "</table>\n",
       "</div>"
      ],
      "text/plain": [
       "  country_code                  sum\n",
       "0          USA    90,344,380,521.00\n",
       "1          GBR     5,020,843,539.00\n",
       "2          CAN     3,222,884,577.00"
      ]
     },
     "execution_count": 21,
     "metadata": {},
     "output_type": "execute_result"
    }
   ],
   "source": [
    "top3 = top9.loc[(top9.country_code.isin(english_countries))].reset_index(drop=True).head(3)\n",
    "top3.head()"
   ]
  },
  {
   "cell_type": "markdown",
   "metadata": {},
   "source": [
    "### Analysis\n",
    "\n",
    "The above table clearly indicates that **USA** is leading the game with maximum total amount of investment. The number seems to be much higher compared to the other countries. \n",
    "After USA, the next 2 countries are **GBR & CAN**"
   ]
  },
  {
   "cell_type": "code",
   "execution_count": 22,
   "metadata": {},
   "outputs": [
    {
     "data": {
      "text/plain": [
       "USA    10137\n",
       "GBR      576\n",
       "CAN      372\n",
       "Name: country_code, dtype: int64"
      ]
     },
     "execution_count": 22,
     "metadata": {},
     "output_type": "execute_result"
    }
   ],
   "source": [
    "venture_frame = venture_frame.loc[venture_frame.country_code.isin(top3.country_code)]\n",
    "venture_frame.country_code.value_counts()"
   ]
  },
  {
   "cell_type": "markdown",
   "metadata": {},
   "source": [
    "-----------------------\n",
    "## Checkpoint 4 - Sector Analysis\n",
    "\n",
    "It's time to now identify the sectors that are attracting more investments. \n",
    "Before we do that, we need to narrow down the numerous categories to 8 main sectors."
   ]
  },
  {
   "cell_type": "markdown",
   "metadata": {},
   "source": [
    "#### Step 1: Getting the primary sector"
   ]
  },
  {
   "cell_type": "code",
   "execution_count": 23,
   "metadata": {},
   "outputs": [
    {
     "data": {
      "text/html": [
       "<div>\n",
       "<style scoped>\n",
       "    .dataframe tbody tr th:only-of-type {\n",
       "        vertical-align: middle;\n",
       "    }\n",
       "\n",
       "    .dataframe tbody tr th {\n",
       "        vertical-align: top;\n",
       "    }\n",
       "\n",
       "    .dataframe thead th {\n",
       "        text-align: right;\n",
       "    }\n",
       "</style>\n",
       "<table border=\"1\" class=\"dataframe\">\n",
       "  <thead>\n",
       "    <tr style=\"text-align: right;\">\n",
       "      <th></th>\n",
       "      <th>company_permalink</th>\n",
       "      <th>funding_round_permalink</th>\n",
       "      <th>funding_round_type</th>\n",
       "      <th>funding_round_code</th>\n",
       "      <th>funded_at</th>\n",
       "      <th>raised_amount_usd</th>\n",
       "      <th>permalink</th>\n",
       "      <th>name</th>\n",
       "      <th>homepage_url</th>\n",
       "      <th>category_list</th>\n",
       "      <th>status</th>\n",
       "      <th>country_code</th>\n",
       "      <th>state_code</th>\n",
       "      <th>region</th>\n",
       "      <th>city</th>\n",
       "      <th>founded_at</th>\n",
       "      <th>primary_sector</th>\n",
       "    </tr>\n",
       "  </thead>\n",
       "  <tbody>\n",
       "    <tr>\n",
       "      <th>15</th>\n",
       "      <td>/organization/-technologies</td>\n",
       "      <td>/funding-round/786f61aa9866f4471151285f5c56be36</td>\n",
       "      <td>venture</td>\n",
       "      <td>A</td>\n",
       "      <td>03-02-2010</td>\n",
       "      <td>5,150,000.00</td>\n",
       "      <td>/organization/-technologies</td>\n",
       "      <td>004 Technologies</td>\n",
       "      <td>http://004gmbh.de/en/004-interact</td>\n",
       "      <td>Software</td>\n",
       "      <td>operating</td>\n",
       "      <td>USA</td>\n",
       "      <td>IL</td>\n",
       "      <td>Springfield, Illinois</td>\n",
       "      <td>Champaign</td>\n",
       "      <td>01-01-2010</td>\n",
       "      <td>software</td>\n",
       "    </tr>\n",
       "    <tr>\n",
       "      <th>16</th>\n",
       "      <td>/organization/-technologies</td>\n",
       "      <td>/funding-round/786f61aa9866f4471151285f5c56be36</td>\n",
       "      <td>venture</td>\n",
       "      <td>A</td>\n",
       "      <td>03-02-2010</td>\n",
       "      <td>5,150,000.00</td>\n",
       "      <td>/organization/-technologies</td>\n",
       "      <td>1366 Technologies</td>\n",
       "      <td>http://www.1366tech.com</td>\n",
       "      <td>Manufacturing</td>\n",
       "      <td>operating</td>\n",
       "      <td>USA</td>\n",
       "      <td>MA</td>\n",
       "      <td>Boston</td>\n",
       "      <td>Bedford</td>\n",
       "      <td>01-01-2007</td>\n",
       "      <td>manufacturing</td>\n",
       "    </tr>\n",
       "    <tr>\n",
       "      <th>17</th>\n",
       "      <td>/organization/-technologies</td>\n",
       "      <td>/funding-round/82ace97530965cd2be8f262836b43ff5</td>\n",
       "      <td>venture</td>\n",
       "      <td>A</td>\n",
       "      <td>27-03-2008</td>\n",
       "      <td>12,400,000.00</td>\n",
       "      <td>/organization/-technologies</td>\n",
       "      <td>004 Technologies</td>\n",
       "      <td>http://004gmbh.de/en/004-interact</td>\n",
       "      <td>Software</td>\n",
       "      <td>operating</td>\n",
       "      <td>USA</td>\n",
       "      <td>IL</td>\n",
       "      <td>Springfield, Illinois</td>\n",
       "      <td>Champaign</td>\n",
       "      <td>01-01-2010</td>\n",
       "      <td>software</td>\n",
       "    </tr>\n",
       "    <tr>\n",
       "      <th>18</th>\n",
       "      <td>/organization/-technologies</td>\n",
       "      <td>/funding-round/82ace97530965cd2be8f262836b43ff5</td>\n",
       "      <td>venture</td>\n",
       "      <td>A</td>\n",
       "      <td>27-03-2008</td>\n",
       "      <td>12,400,000.00</td>\n",
       "      <td>/organization/-technologies</td>\n",
       "      <td>1366 Technologies</td>\n",
       "      <td>http://www.1366tech.com</td>\n",
       "      <td>Manufacturing</td>\n",
       "      <td>operating</td>\n",
       "      <td>USA</td>\n",
       "      <td>MA</td>\n",
       "      <td>Boston</td>\n",
       "      <td>Bedford</td>\n",
       "      <td>01-01-2007</td>\n",
       "      <td>manufacturing</td>\n",
       "    </tr>\n",
       "    <tr>\n",
       "      <th>19</th>\n",
       "      <td>/organization/-technologies</td>\n",
       "      <td>/funding-round/ab99fc5a53717b1b53fd6aa5687c5fa9</td>\n",
       "      <td>venture</td>\n",
       "      <td>B</td>\n",
       "      <td>16-12-2010</td>\n",
       "      <td>6,000,000.00</td>\n",
       "      <td>/organization/-technologies</td>\n",
       "      <td>004 Technologies</td>\n",
       "      <td>http://004gmbh.de/en/004-interact</td>\n",
       "      <td>Software</td>\n",
       "      <td>operating</td>\n",
       "      <td>USA</td>\n",
       "      <td>IL</td>\n",
       "      <td>Springfield, Illinois</td>\n",
       "      <td>Champaign</td>\n",
       "      <td>01-01-2010</td>\n",
       "      <td>software</td>\n",
       "    </tr>\n",
       "  </tbody>\n",
       "</table>\n",
       "</div>"
      ],
      "text/plain": [
       "              company_permalink  \\\n",
       "15  /organization/-technologies   \n",
       "16  /organization/-technologies   \n",
       "17  /organization/-technologies   \n",
       "18  /organization/-technologies   \n",
       "19  /organization/-technologies   \n",
       "\n",
       "                            funding_round_permalink funding_round_type  \\\n",
       "15  /funding-round/786f61aa9866f4471151285f5c56be36            venture   \n",
       "16  /funding-round/786f61aa9866f4471151285f5c56be36            venture   \n",
       "17  /funding-round/82ace97530965cd2be8f262836b43ff5            venture   \n",
       "18  /funding-round/82ace97530965cd2be8f262836b43ff5            venture   \n",
       "19  /funding-round/ab99fc5a53717b1b53fd6aa5687c5fa9            venture   \n",
       "\n",
       "   funding_round_code   funded_at    raised_amount_usd  \\\n",
       "15                  A  03-02-2010         5,150,000.00   \n",
       "16                  A  03-02-2010         5,150,000.00   \n",
       "17                  A  27-03-2008        12,400,000.00   \n",
       "18                  A  27-03-2008        12,400,000.00   \n",
       "19                  B  16-12-2010         6,000,000.00   \n",
       "\n",
       "                      permalink               name  \\\n",
       "15  /organization/-technologies   004 Technologies   \n",
       "16  /organization/-technologies  1366 Technologies   \n",
       "17  /organization/-technologies   004 Technologies   \n",
       "18  /organization/-technologies  1366 Technologies   \n",
       "19  /organization/-technologies   004 Technologies   \n",
       "\n",
       "                         homepage_url  category_list     status country_code  \\\n",
       "15  http://004gmbh.de/en/004-interact       Software  operating          USA   \n",
       "16            http://www.1366tech.com  Manufacturing  operating          USA   \n",
       "17  http://004gmbh.de/en/004-interact       Software  operating          USA   \n",
       "18            http://www.1366tech.com  Manufacturing  operating          USA   \n",
       "19  http://004gmbh.de/en/004-interact       Software  operating          USA   \n",
       "\n",
       "   state_code                 region       city  founded_at primary_sector  \n",
       "15         IL  Springfield, Illinois  Champaign  01-01-2010       software  \n",
       "16         MA                 Boston    Bedford  01-01-2007  manufacturing  \n",
       "17         IL  Springfield, Illinois  Champaign  01-01-2010       software  \n",
       "18         MA                 Boston    Bedford  01-01-2007  manufacturing  \n",
       "19         IL  Springfield, Illinois  Champaign  01-01-2010       software  "
      ]
     },
     "execution_count": 23,
     "metadata": {},
     "output_type": "execute_result"
    }
   ],
   "source": [
    "venture_frame[\"primary_sector\"] = venture_frame.category_list.str.split('|').str[0]\n",
    "venture_frame[\"primary_sector\"] = venture_frame[\"primary_sector\"].str.lower()\n",
    "venture_frame.head()"
   ]
  },
  {
   "cell_type": "markdown",
   "metadata": {},
   "source": [
    "#### Step 2: Mapping to get the main sector"
   ]
  },
  {
   "cell_type": "code",
   "execution_count": 24,
   "metadata": {},
   "outputs": [],
   "source": [
    "venture_frame = venture_frame.dropna(subset=[\"primary_sector\"])"
   ]
  },
  {
   "cell_type": "markdown",
   "metadata": {},
   "source": [
    "* Checking if all the rows have singular 1 value"
   ]
  },
  {
   "cell_type": "code",
   "execution_count": 25,
   "metadata": {},
   "outputs": [
    {
     "name": "stdout",
     "output_type": "stream",
     "text": [
      "Sum of values 688\n",
      "Rows in main_sector_mapping 688\n"
     ]
    }
   ],
   "source": [
    "print(\"Sum of values\", np.sum(main_sector_mapping.iloc[:,1:]).sum())\n",
    "print(\"Rows in main_sector_mapping\",main_sector_mapping.shape[0])"
   ]
  },
  {
   "cell_type": "code",
   "execution_count": 26,
   "metadata": {},
   "outputs": [
    {
     "data": {
      "text/html": [
       "<div>\n",
       "<style scoped>\n",
       "    .dataframe tbody tr th:only-of-type {\n",
       "        vertical-align: middle;\n",
       "    }\n",
       "\n",
       "    .dataframe tbody tr th {\n",
       "        vertical-align: top;\n",
       "    }\n",
       "\n",
       "    .dataframe thead th {\n",
       "        text-align: right;\n",
       "    }\n",
       "</style>\n",
       "<table border=\"1\" class=\"dataframe\">\n",
       "  <thead>\n",
       "    <tr style=\"text-align: right;\">\n",
       "      <th></th>\n",
       "      <th>category_list</th>\n",
       "      <th>Automotive &amp; Sports</th>\n",
       "      <th>Blanks</th>\n",
       "      <th>Cleantech / Semiconductors</th>\n",
       "      <th>Entertainment</th>\n",
       "      <th>Health</th>\n",
       "      <th>Manufacturing</th>\n",
       "      <th>News, Search and Messaging</th>\n",
       "      <th>Others</th>\n",
       "      <th>Social, Finance, Analytics, Advertising</th>\n",
       "      <th>main_sector</th>\n",
       "    </tr>\n",
       "  </thead>\n",
       "  <tbody>\n",
       "    <tr>\n",
       "      <th>0</th>\n",
       "      <td>nan</td>\n",
       "      <td>0</td>\n",
       "      <td>1</td>\n",
       "      <td>0</td>\n",
       "      <td>0</td>\n",
       "      <td>0</td>\n",
       "      <td>0</td>\n",
       "      <td>0</td>\n",
       "      <td>0</td>\n",
       "      <td>0</td>\n",
       "      <td>Blanks</td>\n",
       "    </tr>\n",
       "    <tr>\n",
       "      <th>1</th>\n",
       "      <td>d</td>\n",
       "      <td>0</td>\n",
       "      <td>0</td>\n",
       "      <td>0</td>\n",
       "      <td>0</td>\n",
       "      <td>0</td>\n",
       "      <td>1</td>\n",
       "      <td>0</td>\n",
       "      <td>0</td>\n",
       "      <td>0</td>\n",
       "      <td>Manufacturing</td>\n",
       "    </tr>\n",
       "    <tr>\n",
       "      <th>2</th>\n",
       "      <td>d printing</td>\n",
       "      <td>0</td>\n",
       "      <td>0</td>\n",
       "      <td>0</td>\n",
       "      <td>0</td>\n",
       "      <td>0</td>\n",
       "      <td>1</td>\n",
       "      <td>0</td>\n",
       "      <td>0</td>\n",
       "      <td>0</td>\n",
       "      <td>Manufacturing</td>\n",
       "    </tr>\n",
       "    <tr>\n",
       "      <th>3</th>\n",
       "      <td>d technology</td>\n",
       "      <td>0</td>\n",
       "      <td>0</td>\n",
       "      <td>0</td>\n",
       "      <td>0</td>\n",
       "      <td>0</td>\n",
       "      <td>1</td>\n",
       "      <td>0</td>\n",
       "      <td>0</td>\n",
       "      <td>0</td>\n",
       "      <td>Manufacturing</td>\n",
       "    </tr>\n",
       "    <tr>\n",
       "      <th>4</th>\n",
       "      <td>accounting</td>\n",
       "      <td>0</td>\n",
       "      <td>0</td>\n",
       "      <td>0</td>\n",
       "      <td>0</td>\n",
       "      <td>0</td>\n",
       "      <td>0</td>\n",
       "      <td>0</td>\n",
       "      <td>0</td>\n",
       "      <td>1</td>\n",
       "      <td>Social, Finance, Analytics, Advertising</td>\n",
       "    </tr>\n",
       "  </tbody>\n",
       "</table>\n",
       "</div>"
      ],
      "text/plain": [
       "  category_list  Automotive & Sports  Blanks  Cleantech / Semiconductors  \\\n",
       "0           nan                    0       1                           0   \n",
       "1             d                    0       0                           0   \n",
       "2    d printing                    0       0                           0   \n",
       "3  d technology                    0       0                           0   \n",
       "4    accounting                    0       0                           0   \n",
       "\n",
       "   Entertainment  Health  Manufacturing  News, Search and Messaging  Others  \\\n",
       "0              0       0              0                           0       0   \n",
       "1              0       0              1                           0       0   \n",
       "2              0       0              1                           0       0   \n",
       "3              0       0              1                           0       0   \n",
       "4              0       0              0                           0       0   \n",
       "\n",
       "   Social, Finance, Analytics, Advertising  \\\n",
       "0                                        0   \n",
       "1                                        0   \n",
       "2                                        0   \n",
       "3                                        0   \n",
       "4                                        1   \n",
       "\n",
       "                               main_sector  \n",
       "0                                   Blanks  \n",
       "1                            Manufacturing  \n",
       "2                            Manufacturing  \n",
       "3                            Manufacturing  \n",
       "4  Social, Finance, Analytics, Advertising  "
      ]
     },
     "execution_count": 26,
     "metadata": {},
     "output_type": "execute_result"
    }
   ],
   "source": [
    "main_sector_mapping['main_sector'] = main_sector_mapping.iloc[:,1:].idxmax(axis=1)\n",
    "main_sector_mapping.head()"
   ]
  },
  {
   "cell_type": "code",
   "execution_count": 27,
   "metadata": {},
   "outputs": [
    {
     "data": {
      "text/html": [
       "<div>\n",
       "<style scoped>\n",
       "    .dataframe tbody tr th:only-of-type {\n",
       "        vertical-align: middle;\n",
       "    }\n",
       "\n",
       "    .dataframe tbody tr th {\n",
       "        vertical-align: top;\n",
       "    }\n",
       "\n",
       "    .dataframe thead th {\n",
       "        text-align: right;\n",
       "    }\n",
       "</style>\n",
       "<table border=\"1\" class=\"dataframe\">\n",
       "  <thead>\n",
       "    <tr style=\"text-align: right;\">\n",
       "      <th></th>\n",
       "      <th>company_permalink</th>\n",
       "      <th>funding_round_permalink</th>\n",
       "      <th>funding_round_type</th>\n",
       "      <th>funding_round_code</th>\n",
       "      <th>funded_at</th>\n",
       "      <th>raised_amount_usd</th>\n",
       "      <th>permalink</th>\n",
       "      <th>name</th>\n",
       "      <th>homepage_url</th>\n",
       "      <th>category_list</th>\n",
       "      <th>status</th>\n",
       "      <th>country_code</th>\n",
       "      <th>state_code</th>\n",
       "      <th>region</th>\n",
       "      <th>city</th>\n",
       "      <th>founded_at</th>\n",
       "      <th>primary_sector</th>\n",
       "      <th>main_sector</th>\n",
       "    </tr>\n",
       "  </thead>\n",
       "  <tbody>\n",
       "    <tr>\n",
       "      <th>15</th>\n",
       "      <td>/organization/-technologies</td>\n",
       "      <td>/funding-round/786f61aa9866f4471151285f5c56be36</td>\n",
       "      <td>venture</td>\n",
       "      <td>A</td>\n",
       "      <td>03-02-2010</td>\n",
       "      <td>5,150,000.00</td>\n",
       "      <td>/organization/-technologies</td>\n",
       "      <td>004 Technologies</td>\n",
       "      <td>http://004gmbh.de/en/004-interact</td>\n",
       "      <td>Software</td>\n",
       "      <td>operating</td>\n",
       "      <td>USA</td>\n",
       "      <td>IL</td>\n",
       "      <td>Springfield, Illinois</td>\n",
       "      <td>Champaign</td>\n",
       "      <td>01-01-2010</td>\n",
       "      <td>software</td>\n",
       "      <td>Others</td>\n",
       "    </tr>\n",
       "    <tr>\n",
       "      <th>16</th>\n",
       "      <td>/organization/-technologies</td>\n",
       "      <td>/funding-round/786f61aa9866f4471151285f5c56be36</td>\n",
       "      <td>venture</td>\n",
       "      <td>A</td>\n",
       "      <td>03-02-2010</td>\n",
       "      <td>5,150,000.00</td>\n",
       "      <td>/organization/-technologies</td>\n",
       "      <td>1366 Technologies</td>\n",
       "      <td>http://www.1366tech.com</td>\n",
       "      <td>Manufacturing</td>\n",
       "      <td>operating</td>\n",
       "      <td>USA</td>\n",
       "      <td>MA</td>\n",
       "      <td>Boston</td>\n",
       "      <td>Bedford</td>\n",
       "      <td>01-01-2007</td>\n",
       "      <td>manufacturing</td>\n",
       "      <td>Manufacturing</td>\n",
       "    </tr>\n",
       "    <tr>\n",
       "      <th>17</th>\n",
       "      <td>/organization/-technologies</td>\n",
       "      <td>/funding-round/82ace97530965cd2be8f262836b43ff5</td>\n",
       "      <td>venture</td>\n",
       "      <td>A</td>\n",
       "      <td>27-03-2008</td>\n",
       "      <td>12,400,000.00</td>\n",
       "      <td>/organization/-technologies</td>\n",
       "      <td>004 Technologies</td>\n",
       "      <td>http://004gmbh.de/en/004-interact</td>\n",
       "      <td>Software</td>\n",
       "      <td>operating</td>\n",
       "      <td>USA</td>\n",
       "      <td>IL</td>\n",
       "      <td>Springfield, Illinois</td>\n",
       "      <td>Champaign</td>\n",
       "      <td>01-01-2010</td>\n",
       "      <td>software</td>\n",
       "      <td>Others</td>\n",
       "    </tr>\n",
       "    <tr>\n",
       "      <th>18</th>\n",
       "      <td>/organization/-technologies</td>\n",
       "      <td>/funding-round/82ace97530965cd2be8f262836b43ff5</td>\n",
       "      <td>venture</td>\n",
       "      <td>A</td>\n",
       "      <td>27-03-2008</td>\n",
       "      <td>12,400,000.00</td>\n",
       "      <td>/organization/-technologies</td>\n",
       "      <td>1366 Technologies</td>\n",
       "      <td>http://www.1366tech.com</td>\n",
       "      <td>Manufacturing</td>\n",
       "      <td>operating</td>\n",
       "      <td>USA</td>\n",
       "      <td>MA</td>\n",
       "      <td>Boston</td>\n",
       "      <td>Bedford</td>\n",
       "      <td>01-01-2007</td>\n",
       "      <td>manufacturing</td>\n",
       "      <td>Manufacturing</td>\n",
       "    </tr>\n",
       "    <tr>\n",
       "      <th>19</th>\n",
       "      <td>/organization/-technologies</td>\n",
       "      <td>/funding-round/ab99fc5a53717b1b53fd6aa5687c5fa9</td>\n",
       "      <td>venture</td>\n",
       "      <td>B</td>\n",
       "      <td>16-12-2010</td>\n",
       "      <td>6,000,000.00</td>\n",
       "      <td>/organization/-technologies</td>\n",
       "      <td>004 Technologies</td>\n",
       "      <td>http://004gmbh.de/en/004-interact</td>\n",
       "      <td>Software</td>\n",
       "      <td>operating</td>\n",
       "      <td>USA</td>\n",
       "      <td>IL</td>\n",
       "      <td>Springfield, Illinois</td>\n",
       "      <td>Champaign</td>\n",
       "      <td>01-01-2010</td>\n",
       "      <td>software</td>\n",
       "      <td>Others</td>\n",
       "    </tr>\n",
       "  </tbody>\n",
       "</table>\n",
       "</div>"
      ],
      "text/plain": [
       "              company_permalink  \\\n",
       "15  /organization/-technologies   \n",
       "16  /organization/-technologies   \n",
       "17  /organization/-technologies   \n",
       "18  /organization/-technologies   \n",
       "19  /organization/-technologies   \n",
       "\n",
       "                            funding_round_permalink funding_round_type  \\\n",
       "15  /funding-round/786f61aa9866f4471151285f5c56be36            venture   \n",
       "16  /funding-round/786f61aa9866f4471151285f5c56be36            venture   \n",
       "17  /funding-round/82ace97530965cd2be8f262836b43ff5            venture   \n",
       "18  /funding-round/82ace97530965cd2be8f262836b43ff5            venture   \n",
       "19  /funding-round/ab99fc5a53717b1b53fd6aa5687c5fa9            venture   \n",
       "\n",
       "   funding_round_code   funded_at    raised_amount_usd  \\\n",
       "15                  A  03-02-2010         5,150,000.00   \n",
       "16                  A  03-02-2010         5,150,000.00   \n",
       "17                  A  27-03-2008        12,400,000.00   \n",
       "18                  A  27-03-2008        12,400,000.00   \n",
       "19                  B  16-12-2010         6,000,000.00   \n",
       "\n",
       "                      permalink               name  \\\n",
       "15  /organization/-technologies   004 Technologies   \n",
       "16  /organization/-technologies  1366 Technologies   \n",
       "17  /organization/-technologies   004 Technologies   \n",
       "18  /organization/-technologies  1366 Technologies   \n",
       "19  /organization/-technologies   004 Technologies   \n",
       "\n",
       "                         homepage_url  category_list     status country_code  \\\n",
       "15  http://004gmbh.de/en/004-interact       Software  operating          USA   \n",
       "16            http://www.1366tech.com  Manufacturing  operating          USA   \n",
       "17  http://004gmbh.de/en/004-interact       Software  operating          USA   \n",
       "18            http://www.1366tech.com  Manufacturing  operating          USA   \n",
       "19  http://004gmbh.de/en/004-interact       Software  operating          USA   \n",
       "\n",
       "   state_code                 region       city  founded_at primary_sector  \\\n",
       "15         IL  Springfield, Illinois  Champaign  01-01-2010       software   \n",
       "16         MA                 Boston    Bedford  01-01-2007  manufacturing   \n",
       "17         IL  Springfield, Illinois  Champaign  01-01-2010       software   \n",
       "18         MA                 Boston    Bedford  01-01-2007  manufacturing   \n",
       "19         IL  Springfield, Illinois  Champaign  01-01-2010       software   \n",
       "\n",
       "      main_sector  \n",
       "15         Others  \n",
       "16  Manufacturing  \n",
       "17         Others  \n",
       "18  Manufacturing  \n",
       "19         Others  "
      ]
     },
     "execution_count": 27,
     "metadata": {},
     "output_type": "execute_result"
    }
   ],
   "source": [
    "#Mapping the main_sectors to the venture_frame while checking \n",
    "#if the primary category exists in the category_list, if not then it is assumed to be in Others\n",
    "venture_frame['main_sector'] = list(map(lambda category: \n",
    "                                  main_sector_mapping.loc[main_sector_mapping.category_list == category,\"main_sector\"].values[0]\n",
    "                                  if category in main_sector_mapping.values\n",
    "                                  else\n",
    "                                  \"Others\"\n",
    "                                  ,venture_frame[\"primary_sector\"]))\n",
    "venture_frame.head()"
   ]
  },
  {
   "cell_type": "markdown",
   "metadata": {},
   "source": [
    "##### Since only 8 sectors need to be considered, and because Blanks sectors just includes nan values, those values are dropped"
   ]
  },
  {
   "cell_type": "code",
   "execution_count": 28,
   "metadata": {},
   "outputs": [],
   "source": [
    "venture_frame.drop(venture_frame.index[venture_frame.main_sector==\"Blanks\"], inplace = True)"
   ]
  },
  {
   "cell_type": "markdown",
   "metadata": {},
   "source": [
    "---------------------\n",
    "\n",
    "## Checkpoint 5: Sector Analysis 2\n",
    "Now that the sectors are narrowed down to 8 main sectors, the analysis for each country can be done based on the sectors. \n",
    "\n",
    "Since the functions for this analysis is similar for all the 3 dataframes, I have made 2 functions for this purpose. "
   ]
  },
  {
   "cell_type": "code",
   "execution_count": 29,
   "metadata": {},
   "outputs": [],
   "source": [
    "#Creates the dataframe for the country\n",
    "def create_dataframe(country):\n",
    "    dataframe = venture_frame.loc[venture_frame.country_code == country]\n",
    "    dataframe[\"investment-total\"] = dataframe.groupby('main_sector')['raised_amount_usd'].transform(np.sum)\n",
    "    dataframe[\"investment-count\"] = dataframe.groupby('main_sector')['raised_amount_usd'].transform('count')\n",
    "    return dataframe    "
   ]
  },
  {
   "cell_type": "code",
   "execution_count": 30,
   "metadata": {},
   "outputs": [],
   "source": [
    "#Returns the analysis for the country based on the top sectors\n",
    "def sector_analysis(dataframe):\n",
    "    print(\"Total No.of Investments: \", dataframe.raised_amount_usd.count())\n",
    "    print(\"Total Amount of Investment: \", dataframe.raised_amount_usd.sum())\n",
    "    sectors = dataframe.main_sector.value_counts().sort_values(ascending=False).head(3)\n",
    "    print(\"Top 3 Sectors: \\n\", sectors)\n",
    "    print(\"Top 1 sector, company with highest investment: \", dataframe.loc[dataframe.main_sector == sectors.index[0]].sort_values(by=\"raised_amount_usd\",ascending=False).head(1).name)\n",
    "    print(\"Top 2 sector, company with highest investment: \", dataframe.loc[dataframe.main_sector == sectors.index[1]].sort_values(by=\"raised_amount_usd\",ascending=False).head(1).name)"
   ]
  },
  {
   "cell_type": "code",
   "execution_count": 31,
   "metadata": {},
   "outputs": [
    {
     "name": "stdout",
     "output_type": "stream",
     "text": [
      "Total No.of Investments:  10068\n",
      "Total Amount of Investment:  89741792197.0\n",
      "Top 3 Sectors: \n",
      " Others                                     2767\n",
      "Social, Finance, Analytics, Advertising    2212\n",
      "Cleantech / Semiconductors                 1994\n",
      "Name: main_sector, dtype: int64\n",
      "Top 1 sector, company with highest investment:  94526    SpiderCloud Wireless\n",
      "Name: name, dtype: object\n",
      "Top 2 sector, company with highest investment:  37201    Flite\n",
      "Name: name, dtype: object\n"
     ]
    }
   ],
   "source": [
    "D1 = create_dataframe(top3.country_code[0])\n",
    "sector_analysis(D1)"
   ]
  },
  {
   "cell_type": "markdown",
   "metadata": {},
   "source": [
    "#### Country 2 Analysis"
   ]
  },
  {
   "cell_type": "code",
   "execution_count": 32,
   "metadata": {},
   "outputs": [
    {
     "name": "stdout",
     "output_type": "stream",
     "text": [
      "Total No.of Investments:  569\n",
      "Total Amount of Investment:  4954078691.0\n",
      "Top 3 Sectors: \n",
      " Others                                     147\n",
      "Cleantech / Semiconductors                 127\n",
      "Social, Finance, Analytics, Advertising    117\n",
      "Name: main_sector, dtype: int64\n",
      "Top 1 sector, company with highest investment:  66146    MyOptique Group\n",
      "Name: name, dtype: object\n",
      "Top 2 sector, company with highest investment:  71705    Onyvax\n",
      "Name: name, dtype: object\n"
     ]
    }
   ],
   "source": [
    "D2 = create_dataframe(top3.country_code[1])\n",
    "sector_analysis(D2)"
   ]
  },
  {
   "cell_type": "markdown",
   "metadata": {},
   "source": [
    "#### Country 3 Analysis"
   ]
  },
  {
   "cell_type": "code",
   "execution_count": 33,
   "metadata": {},
   "outputs": [
    {
     "name": "stdout",
     "output_type": "stream",
     "text": [
      "Total No.of Investments:  369\n",
      "Total Amount of Investment:  3190164959.0\n",
      "Top 3 Sectors: \n",
      " Others                                     110\n",
      "Cleantech / Semiconductors                  98\n",
      "Social, Finance, Analytics, Advertising     68\n",
      "Name: main_sector, dtype: int64\n",
      "Top 1 sector, company with highest investment:  68395    NewStep Networks\n",
      "Name: name, dtype: object\n",
      "Top 2 sector, company with highest investment:  38382    Fresco Microchip\n",
      "Name: name, dtype: object\n"
     ]
    }
   ],
   "source": [
    "D3 = create_dataframe(top3.country_code[2])\n",
    "sector_analysis(D3)"
   ]
  },
  {
   "cell_type": "markdown",
   "metadata": {},
   "source": [
    "### Overall Analysis\n",
    "\n",
    "Based on the data gathered, it is evident that the most popular main_sectors across the 3 countries are \n",
    "1. Others\n",
    "2. Cleantech/ Semiconductors\n",
    "3. Social, Finance, Analytics, Advertising"
   ]
  },
  {
   "cell_type": "markdown",
   "metadata": {},
   "source": [
    "-------------------\n",
    "## Checkpoint 6: Plotting the graphs"
   ]
  },
  {
   "cell_type": "markdown",
   "metadata": {},
   "source": [
    "### Graph 1: showing the mean of the 3 different funding types\n",
    "The graph evidently shows that Venture funding is the most suitable of all. \n",
    "\n",
    "Chose a box plot because it indicates the different points(outliers,mean,etc) for each funding type while also giving a clear idea of where the mean lies."
   ]
  },
  {
   "cell_type": "code",
   "execution_count": 34,
   "metadata": {},
   "outputs": [
    {
     "data": {
      "image/png": "[encoded data removed]",
      "text/plain": [
       "<Figure size 432x288 with 1 Axes>"
      ]
     },
     "metadata": {
      "needs_background": "light"
     },
     "output_type": "display_data"
    }
   ],
   "source": [
    "funding = master_frame.loc[master_frame.funding_round_type.isin([\"venture\",\"seed\",\"private_equity\"])]\n",
    "sns.boxplot(x=\"funding_round_type\",y=\"raised_amount_usd\",data=funding, palette=\"Blues_d\")\n",
    "lower_limit = plt.axhline(y=5000000,color=\"salmon\",linestyle=\"--\")\n",
    "upper_limit = plt.axhline(y=15000000,color=\"red\",linestyle=\"--\")\n",
    "plt.legend([lower_limit,upper_limit],[\"$5million\",\"$15million\"])\n",
    "plt.yscale('log')\n",
    "plt.title('Total Investments for Funding Types')\n",
    "plt.show()"
   ]
  },
  {
   "cell_type": "markdown",
   "metadata": {},
   "source": [
    "### Graph 2: Top 9 countries\n",
    "Decided to use a bar chart to clearly show the fundings by each of the top 9 countries and identifying the top english speaking countries."
   ]
  },
  {
   "cell_type": "code",
   "execution_count": 35,
   "metadata": {
    "scrolled": true
   },
   "outputs": [
    {
     "data": {
      "image/png": "[encoded data removed]",
      "text/plain": [
       "<Figure size 432x288 with 1 Axes>"
      ]
     },
     "metadata": {
      "needs_background": "light"
     },
     "output_type": "display_data"
    }
   ],
   "source": [
    "import matplotlib.patches as mpatches\n",
    "english = 'c'\n",
    "non_english = 'royalblue'\n",
    "colors = [english if top9.country_code.iloc[country] in english_countries else non_english for country in range(len(top9.country_code))]\n",
    "plt.bar(x=\"country_code\",height=\"sum\",data=top9, color=colors)\n",
    "\n",
    "english_patch = mpatches.Patch(color=english, label='English Speaking')\n",
    "non_english_patch = mpatches.Patch(color=non_english, label='Non-English Speaking')\n",
    "plt.legend(handles = [english_patch,non_english_patch] )\n",
    "plt.yscale('log')\n",
    "plt.ylabel(\"Total Amount of Venture Funding($)\")\n",
    "plt.xlabel(\"Top 9 countries\")\n",
    "plt.title('Total Venture Funding for Top 9 Countries')\n",
    "plt.show()"
   ]
  },
  {
   "cell_type": "markdown",
   "metadata": {},
   "source": [
    "### Graph 3:The top 3 sectors across top 3 countries\n",
    "\n",
    "In this situation, grouped bar chart seemed like an ideal option to clearly show both the factors: Top 3 countries and Top 3 Sectors for those countries."
   ]
  },
  {
   "cell_type": "code",
   "execution_count": 36,
   "metadata": {},
   "outputs": [],
   "source": [
    "sectors = D1.main_sector.value_counts().sort_values(ascending=False).head(3)\n",
    "venture_frame = venture_frame.loc[venture_frame.main_sector.isin(sectors.index)]"
   ]
  },
  {
   "cell_type": "code",
   "execution_count": 37,
   "metadata": {},
   "outputs": [
    {
     "data": {
      "text/html": [
       "<div>\n",
       "<style scoped>\n",
       "    .dataframe tbody tr th:only-of-type {\n",
       "        vertical-align: middle;\n",
       "    }\n",
       "\n",
       "    .dataframe tbody tr th {\n",
       "        vertical-align: top;\n",
       "    }\n",
       "\n",
       "    .dataframe thead th {\n",
       "        text-align: right;\n",
       "    }\n",
       "</style>\n",
       "<table border=\"1\" class=\"dataframe\">\n",
       "  <thead>\n",
       "    <tr style=\"text-align: right;\">\n",
       "      <th></th>\n",
       "      <th>main_sector</th>\n",
       "      <th>country_code</th>\n",
       "      <th>count</th>\n",
       "    </tr>\n",
       "  </thead>\n",
       "  <tbody>\n",
       "    <tr>\n",
       "      <th>0</th>\n",
       "      <td>Cleantech / Semiconductors</td>\n",
       "      <td>CAN</td>\n",
       "      <td>98</td>\n",
       "    </tr>\n",
       "    <tr>\n",
       "      <th>1</th>\n",
       "      <td>Cleantech / Semiconductors</td>\n",
       "      <td>GBR</td>\n",
       "      <td>127</td>\n",
       "    </tr>\n",
       "    <tr>\n",
       "      <th>2</th>\n",
       "      <td>Cleantech / Semiconductors</td>\n",
       "      <td>USA</td>\n",
       "      <td>1994</td>\n",
       "    </tr>\n",
       "    <tr>\n",
       "      <th>3</th>\n",
       "      <td>Others</td>\n",
       "      <td>CAN</td>\n",
       "      <td>110</td>\n",
       "    </tr>\n",
       "    <tr>\n",
       "      <th>4</th>\n",
       "      <td>Others</td>\n",
       "      <td>GBR</td>\n",
       "      <td>147</td>\n",
       "    </tr>\n",
       "  </tbody>\n",
       "</table>\n",
       "</div>"
      ],
      "text/plain": [
       "                  main_sector country_code  count\n",
       "0  Cleantech / Semiconductors          CAN     98\n",
       "1  Cleantech / Semiconductors          GBR    127\n",
       "2  Cleantech / Semiconductors          USA   1994\n",
       "3                      Others          CAN    110\n",
       "4                      Others          GBR    147"
      ]
     },
     "execution_count": 37,
     "metadata": {},
     "output_type": "execute_result"
    }
   ],
   "source": [
    "graph3 = venture_frame.groupby(['main_sector','country_code']).raised_amount_usd.agg(['count']).reset_index()\n",
    "graph3.head()"
   ]
  },
  {
   "cell_type": "code",
   "execution_count": 38,
   "metadata": {},
   "outputs": [
    {
     "data": {
      "image/png": "[encoded data removed]",
      "text/plain": [
       "<Figure size 432x288 with 1 Axes>"
      ]
     },
     "metadata": {
      "needs_background": "light"
     },
     "output_type": "display_data"
    }
   ],
   "source": [
    "graph3.pivot(index=\"country_code\",columns=\"main_sector\",values=\"count\").plot.bar()\n",
    "plt.yscale('log')\n",
    "plt.ylabel(\"Total Number of Funding\")\n",
    "plt.xlabel(\"Top 3 English Speaking Countries\")\n",
    "plt.title('Total Number of Funding in Top 3 countries')\n",
    "plt.show()"
   ]
  },
  {
   "cell_type": "markdown",
   "metadata": {},
   "source": [
    "## Conclusion\n",
    "\n",
    "In conclusion, Spark Funds can look into **Venture** funding across different countries: \n",
    "1. USA\n",
    "2. United Kingdom\n",
    "3. Canada\n",
    "\n",
    "These countries are the top english speaking countries that are attracting high amounts of funding especially USA. \n",
    "It is seen that there is common popularity of sector across these top countries. Some sectors are getting higher number of investments such as:\n",
    "* Cleantech/ Semiconductors\n",
    "* Social, Finance, Analytics, Advertising\n",
    "* Others: edtech, web development, software,training, task management,etc "
   ]
  }
 ],
 "metadata": {
  "kernelspec": {
   "display_name": "Python 2",
   "language": "python",
   "name": "python2"
  },
  "language_info": {
   "codemirror_mode": {
    "name": "ipython",
    "version": 2
   },
   "file_extension": ".py",
   "mimetype": "text/x-python",
   "name": "python",
   "nbconvert_exporter": "python",
   "pygments_lexer": "ipython2",
   "version": "2.7.15"
  }
 },
 "nbformat": 4,
 "nbformat_minor": 2
}
